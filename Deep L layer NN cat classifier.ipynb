{
 "cells": [
  {
   "cell_type": "markdown",
   "metadata": {},
   "source": [
    "<h2>Deep L layer Neural Network</h2>"
   ]
  },
  {
   "cell_type": "code",
   "execution_count": 290,
   "metadata": {},
   "outputs": [],
   "source": [
    "import numpy as np\n",
    "import matplotlib.pyplot as plt\n",
    "import h5py\n",
    "import cv2"
   ]
  },
  {
   "cell_type": "markdown",
   "metadata": {},
   "source": [
    "## Importing dataset"
   ]
  },
  {
   "cell_type": "code",
   "execution_count": 291,
   "metadata": {},
   "outputs": [],
   "source": [
    "train_dataset = h5py.File('train_catvnoncat.h5', 'r')\n",
    "test_dataset = h5py.File('test_catvnoncat.h5', 'r')"
   ]
  },
  {
   "cell_type": "code",
   "execution_count": 292,
   "metadata": {},
   "outputs": [],
   "source": [
    "X_train_orig = train_dataset['train_set_x']\n",
    "Y_train_orig = train_dataset['train_set_y']\n",
    "X_test_orig = test_dataset['test_set_x']\n",
    "Y_test_orig = test_dataset['test_set_y']"
   ]
  },
  {
   "cell_type": "code",
   "execution_count": 293,
   "metadata": {},
   "outputs": [],
   "source": [
    "#Converting dataset to numpy array\n",
    "X_train_orig = np.array(X_train_orig)\n",
    "Y_train_orig = np.array(Y_train_orig)\n",
    "X_test_orig = np.array(X_test_orig)\n",
    "Y_test_orig = np.array(Y_test_orig)"
   ]
  },
  {
   "cell_type": "code",
   "execution_count": 294,
   "metadata": {},
   "outputs": [],
   "source": [
    "#Flattening the dataset\n",
    "X_train_flatten = X_train_orig.reshape(X_train_orig.shape[0], -1).T\n",
    "X_test_flatten = X_test_orig.reshape(X_test_orig.shape[0], -1).T"
   ]
  },
  {
   "cell_type": "code",
   "execution_count": 295,
   "metadata": {},
   "outputs": [],
   "source": [
    "#Standarizing the dataset\n",
    "X_train_std = X_train_flatten/255.\n",
    "X_test_std = X_test_flatten/255."
   ]
  },
  {
   "cell_type": "code",
   "execution_count": 296,
   "metadata": {},
   "outputs": [],
   "source": [
    "#Removing rank 1 matrix from Y dataset\n",
    "Y_train = Y_train_orig.reshape(1, Y_train_orig.shape[0])\n",
    "Y_test = Y_test_orig.reshape(1, Y_test_orig.shape[0])"
   ]
  },
  {
   "cell_type": "code",
   "execution_count": 297,
   "metadata": {},
   "outputs": [
    {
     "name": "stdout",
     "output_type": "stream",
     "text": [
      "Size of X_train_std = (12288, 209)\n",
      "Size of Y_train = (1, 209)\n",
      "Size of X_test_std = (12288, 50)\n",
      "Size of Y_test = (1, 50)\n"
     ]
    }
   ],
   "source": [
    "#Printing the dataset to make sure the dimensions are ok\n",
    "print('Size of X_train_std = '+str(X_train_std.shape))\n",
    "print('Size of Y_train = '+str(Y_train.shape))\n",
    "print('Size of X_test_std = '+str(X_test_std.shape))\n",
    "print('Size of Y_test = '+str(Y_test.shape))"
   ]
  },
  {
   "cell_type": "markdown",
   "metadata": {},
   "source": [
    "## Sigmoid function"
   ]
  },
  {
   "cell_type": "code",
   "execution_count": 299,
   "metadata": {},
   "outputs": [],
   "source": [
    "def sigmoid(Z):\n",
    "    A = 1/(1+np.exp(-Z))\n",
    "    cache = Z\n",
    "    return A, cache"
   ]
  },
  {
   "cell_type": "code",
   "execution_count": 300,
   "metadata": {},
   "outputs": [],
   "source": [
    "def sigmoid_check(c):\n",
    "    x = np.random.randn(1, c)\n",
    "    r = -c*0.05\n",
    "    for i in range(0, c):\n",
    "        r = r+0.1\n",
    "        x[0, i] = r\n",
    "    x = x.reshape(c,)\n",
    "    sigmoid_x, cache = sigmoid(x)\n",
    "    sigmoid_x = sigmoid_x.reshape(c,)\n",
    "    plt.plot(x, sigmoid_x)\n",
    "    plt.xlabel('x')\n",
    "    plt.ylabel('sigmoid(x)')\n",
    "    plt.show()"
   ]
  },
  {
   "cell_type": "code",
   "execution_count": 302,
   "metadata": {
    "scrolled": false
   },
   "outputs": [
    {
     "data": {
      "image/png": "[encoded data removed]",
      "text/plain": [
       "<Figure size 432x288 with 1 Axes>"
      ]
     },
     "metadata": {
      "needs_background": "light"
     },
     "output_type": "display_data"
    }
   ],
   "source": [
    "sigmoid_check(100)"
   ]
  },
  {
   "cell_type": "markdown",
   "metadata": {},
   "source": [
    "## Sigmoid backward function"
   ]
  },
  {
   "cell_type": "code",
   "execution_count": 303,
   "metadata": {},
   "outputs": [],
   "source": [
    "def sigmoid_backward(dA, activation_cache):\n",
    "    Z = activation_cache\n",
    "    sigmoid_Z, trash = sigmoid(Z)\n",
    "    dZ = dA*(sigmoid_Z*(1-sigmoid_Z))\n",
    "    assert(dZ.shape == Z.shape)\n",
    "    return dZ"
   ]
  },
  {
   "cell_type": "markdown",
   "metadata": {},
   "source": [
    "## Relu function"
   ]
  },
  {
   "cell_type": "code",
   "execution_count": 304,
   "metadata": {},
   "outputs": [],
   "source": [
    "def relu(Z):\n",
    "    #A = (Z+np.abs(Z))/2\n",
    "    A = np.maximum(0, Z)\n",
    "    cache = Z\n",
    "    return A, cache"
   ]
  },
  {
   "cell_type": "code",
   "execution_count": 305,
   "metadata": {},
   "outputs": [],
   "source": [
    "def relu_check(c):\n",
    "    x = np.random.randn(1, c)\n",
    "    r = -c*0.05\n",
    "    for i in range(0, c):\n",
    "        r = r+0.1\n",
    "        x[0, i] = r\n",
    "    x = x.reshape(c,)\n",
    "    relu_x, cache = relu(x)\n",
    "    relu_x = relu_x.reshape(c,)\n",
    "    plt.plot(x, relu_x)\n",
    "    plt.xlabel('x')\n",
    "    plt.ylabel('relu(x)')\n",
    "    plt.show()"
   ]
  },
  {
   "cell_type": "code",
   "execution_count": 306,
   "metadata": {
    "scrolled": false
   },
   "outputs": [
    {
     "data": {
      "image/png": "[encoded data removed]",
      "text/plain": [
       "<Figure size 432x288 with 1 Axes>"
      ]
     },
     "metadata": {
      "needs_background": "light"
     },
     "output_type": "display_data"
    }
   ],
   "source": [
    "relu_check(100)"
   ]
  },
  {
   "cell_type": "markdown",
   "metadata": {},
   "source": [
    "## Relu backward function"
   ]
  },
  {
   "cell_type": "code",
   "execution_count": 307,
   "metadata": {},
   "outputs": [],
   "source": [
    "def relu_backward(dA, activation_cache):\n",
    "    Z = activation_cache\n",
    "    #dZ = dA*((1+np.divide(Z, np.abs(Z)))//2)\n",
    "    dZ = np.array(dA, copy = True)\n",
    "    dZ[Z<=0] = 0\n",
    "    assert(dZ.shape == Z.shape)\n",
    "    return dZ"
   ]
  },
  {
   "cell_type": "markdown",
   "metadata": {},
   "source": [
    "## Initializing parameters"
   ]
  },
  {
   "cell_type": "code",
   "execution_count": 308,
   "metadata": {},
   "outputs": [],
   "source": [
    "def initialize_parameters(layer_dims):\n",
    "    parameters={}\n",
    "    L=len(layer_dims)\n",
    "    for l in range(1, L):\n",
    "        parameters['W'+str(l)]=np.random.randn(layer_dims[l], layer_dims[l-1])/np.sqrt(layer_dims[l-1])\n",
    "        parameters['b'+str(l)]=np.zeros((layer_dims[l], 1))\n",
    "    return parameters"
   ]
  },
  {
   "cell_type": "markdown",
   "metadata": {},
   "source": [
    "## Forward propagation"
   ]
  },
  {
   "cell_type": "code",
   "execution_count": 309,
   "metadata": {},
   "outputs": [],
   "source": [
    "def linear_forward(A, W, b):\n",
    "    Z = np.dot(W, A) + b\n",
    "    assert(Z.shape == (W.shape[0], A.shape[1]))\n",
    "    cache = (A, W, b)\n",
    "    return Z, cache"
   ]
  },
  {
   "cell_type": "code",
   "execution_count": 310,
   "metadata": {},
   "outputs": [],
   "source": [
    "def linear_activation_forward(A_prev, W, b, activation):\n",
    "    if activation=='relu':\n",
    "        Z, linear_cache = linear_forward(A_prev, W, b)\n",
    "        A, activation_cache=relu(Z)\n",
    "        #print('activation = relu')\n",
    "    elif activation=='sigmoid':\n",
    "        Z, linear_cache = linear_forward(A_prev, W, b)\n",
    "        A, activation_cache=sigmoid(Z)\n",
    "        #print('activation = sigmoid')\n",
    "    cache = (linear_cache, activation_cache)\n",
    "    return A, cache"
   ]
  },
  {
   "cell_type": "code",
   "execution_count": 311,
   "metadata": {},
   "outputs": [],
   "source": [
    "def propagate_forward(X, parameters):\n",
    "    L=len(parameters)//2\n",
    "    caches = []\n",
    "    A=X\n",
    "    for l in range(1, L):\n",
    "        A_prev = A\n",
    "        A, cache = linear_activation_forward(A_prev, parameters['W'+str(l)], parameters['b'+str(l)], activation = 'relu')\n",
    "        caches.append(cache)\n",
    "        #print('Layer = '+str(l)+' activation = relu')\n",
    "\n",
    "    A_prev = A\n",
    "    AL, cache = linear_activation_forward(A_prev, parameters['W'+str(L)], parameters['b'+str(L)], activation = 'sigmoid')\n",
    "    caches.append(cache)\n",
    "    #print('Layer = '+str(L)+' activation = sigmoid')\n",
    "    return AL, caches"
   ]
  },
  {
   "cell_type": "markdown",
   "metadata": {},
   "source": [
    "## Compute cost"
   ]
  },
  {
   "cell_type": "code",
   "execution_count": 312,
   "metadata": {},
   "outputs": [],
   "source": [
    "def compute_cost(AL, Y):\n",
    "    m = Y.shape[1]\n",
    "    cost = (-1./m)*(np.dot(Y, np.log(AL).T)+np.dot(1-Y, np.log(1-AL).T))\n",
    "    cost = np.squeeze(cost)\n",
    "    return cost\n",
    "    "
   ]
  },
  {
   "cell_type": "markdown",
   "metadata": {},
   "source": [
    "## Backward propagation"
   ]
  },
  {
   "cell_type": "code",
   "execution_count": 313,
   "metadata": {},
   "outputs": [],
   "source": [
    "def linear_backward(dZ, cache):\n",
    "    A_prev, W, b = cache\n",
    "    m = A_prev.shape[1]\n",
    "    dW = 1/m*np.dot(dZ, A_prev.T)\n",
    "    db = 1/m*np.sum(dZ, axis = 1, keepdims = True)\n",
    "    dA_prev = np.dot(W.T, dZ)\n",
    "    \n",
    "    assert(dW.shape == W.shape)\n",
    "    assert(db.shape == b.shape)\n",
    "    assert(dA_prev.shape == A_prev.shape)\n",
    "    \n",
    "    return dW, db, dA_prev"
   ]
  },
  {
   "cell_type": "code",
   "execution_count": 314,
   "metadata": {},
   "outputs": [],
   "source": [
    "def linear_activation_backward(dA, cache, activation):\n",
    "    linear_cache, activation_cache = cache\n",
    "    if activation == 'relu':\n",
    "        dZ = relu_backward(dA, activation_cache)\n",
    "        dW, db, dA_prev = linear_backward(dZ, linear_cache)\n",
    "    elif activation == 'sigmoid':\n",
    "        dZ = sigmoid_backward(dA, activation_cache)\n",
    "        dW, db, dA_prev = linear_backward(dZ, linear_cache)\n",
    "        \n",
    "    return dW, db, dA_prev"
   ]
  },
  {
   "cell_type": "code",
   "execution_count": 315,
   "metadata": {},
   "outputs": [],
   "source": [
    "def propagate_backward(AL, Y, caches):\n",
    "    grads = {}\n",
    "    L = len(caches)\n",
    "    assert(AL.shape == Y.shape) \n",
    "    dAL = -np.divide(Y, AL)+np.divide((1-Y), (1-AL))\n",
    "    \n",
    "    current_cache = caches[L-1]\n",
    "    grads['dW'+str(L)], grads['db'+str(L)], grads['dA'+str(L-1)] = linear_activation_backward(dAL, current_cache, activation = 'sigmoid')\n",
    "    \n",
    "    for l in reversed(range(L-1)):\n",
    "        current_cache = caches[l]\n",
    "        grads['dW'+str(l+1)], grads['db'+str(l+1)], grads['dA'+str(l)] = linear_activation_backward(grads['dA'+str(l+1)], current_cache, activation = 'relu')\n",
    "        \n",
    "    return grads\n",
    "    "
   ]
  },
  {
   "cell_type": "markdown",
   "metadata": {},
   "source": [
    "## Gradient descent"
   ]
  },
  {
   "cell_type": "code",
   "execution_count": 316,
   "metadata": {},
   "outputs": [],
   "source": [
    "def gradient_descent(parameters, grads, learning_rate):\n",
    "    L = len(parameters)//2\n",
    "    \n",
    "    for l in range(L):\n",
    "        parameters['W'+str(l+1)] = parameters['W'+str(l+1)] - learning_rate * grads['dW'+str(l+1)]\n",
    "        parameters['b'+str(l+1)] = parameters['b'+str(l+1)] - learning_rate * grads['db'+str(l+1)]\n",
    "        \n",
    "    return parameters"
   ]
  },
  {
   "cell_type": "markdown",
   "metadata": {},
   "source": [
    "## Building an L two layer model"
   ]
  },
  {
   "cell_type": "code",
   "execution_count": 317,
   "metadata": {},
   "outputs": [],
   "source": [
    "def predict(parameters, X, Y):\n",
    "    AL, caches = propagate_forward(X, parameters)\n",
    "    for i in range(AL.shape[1]):\n",
    "        if AL[0, i] > 0.5:\n",
    "            AL[0, i] = 1\n",
    "        else:\n",
    "            AL[0, i] = 0\n",
    "    return AL"
   ]
  },
  {
   "cell_type": "code",
   "execution_count": 318,
   "metadata": {},
   "outputs": [],
   "source": [
    "def L_layer_model(X_train, Y_train, X_test, Y_test, layer_dims, learning_rate, iterations, print_cost):\n",
    "    costs = []\n",
    "    num_iterations = []\n",
    "    parameters = initialize_parameters(layer_dims)\n",
    "    for i in range(0, iterations):\n",
    "        AL, caches = propagate_forward(X_train, parameters)\n",
    "        cost = compute_cost(AL, Y_train)\n",
    "        grads = propagate_backward(AL, Y_train, caches)\n",
    "        parameters = gradient_descent(parameters, grads, learning_rate)\n",
    "        if print_cost == True and i%100 == 0:\n",
    "            costs.append(cost)\n",
    "            num_iterations.append(i)\n",
    "            print('Cost after iteration '+str(i)+' = '+str(cost))\n",
    "        \n",
    "    plt.plot(num_iterations, costs)\n",
    "    plt.xlabel('Number of iterations')\n",
    "    plt.ylabel('Cost')\n",
    "    plt.title('Cost graph')\n",
    "    plt.show()\n",
    "    \n",
    "    Y_pred_train = predict(parameters, X_train, Y_test)\n",
    "    Y_pred_test = predict(parameters, X_test, Y_test)\n",
    "    \n",
    "    print('Train accuracy = {} %'.format(100-np.mean(np.abs(Y_pred_train-Y_train))*100))\n",
    "    print('Test accuracy = {} %'.format(100-np.mean(np.abs(Y_pred_test-Y_test))*100))\n",
    "    return parameters"
   ]
  },
  {
   "cell_type": "code",
   "execution_count": 319,
   "metadata": {},
   "outputs": [
    {
     "name": "stdout",
     "output_type": "stream",
     "text": [
      "Cost after iteration 0 = 0.6959971917395756\n",
      "Cost after iteration 100 = 0.6778575032165973\n",
      "Cost after iteration 200 = 0.6672020912237999\n",
      "Cost after iteration 300 = 0.6596550664158684\n",
      "Cost after iteration 400 = 0.65332275514949\n",
      "Cost after iteration 500 = 0.6390046657671259\n",
      "Cost after iteration 600 = 0.5847127922524491\n",
      "Cost after iteration 700 = 0.5366424379365049\n",
      "Cost after iteration 800 = 0.5276077656946592\n",
      "Cost after iteration 900 = 0.47169302200768604\n",
      "Cost after iteration 1000 = 0.4615979068350667\n",
      "Cost after iteration 1100 = 0.40628087371133104\n",
      "Cost after iteration 1200 = 0.378448143864189\n",
      "Cost after iteration 1300 = 0.35008754678640425\n",
      "Cost after iteration 1400 = 0.32497691870483025\n",
      "Cost after iteration 1500 = 0.29837879860301353\n",
      "Cost after iteration 1600 = 0.27727092150466826\n",
      "Cost after iteration 1700 = 0.2474434227792599\n",
      "Cost after iteration 1800 = 0.2203515019212012\n",
      "Cost after iteration 1900 = 0.19872662432017646\n",
      "Cost after iteration 2000 = 0.1811756202468384\n",
      "Cost after iteration 2100 = 0.16783470749655616\n",
      "Cost after iteration 2200 = 0.1570839656406924\n",
      "Cost after iteration 2300 = 0.14894565855435632\n",
      "Cost after iteration 2400 = 0.14119400124123796\n"
     ]
    },
    {
     "data": {
      "image/png": "[encoded data removed]",
      "text/plain": [
       "<Figure size 432x288 with 1 Axes>"
      ]
     },
     "metadata": {
      "needs_background": "light"
     },
     "output_type": "display_data"
    },
    {
     "name": "stdout",
     "output_type": "stream",
     "text": [
      "Train accuracy = 98.56459330143541 %\n",
      "Test accuracy = 82.0 %\n"
     ]
    }
   ],
   "source": [
    "layer_dims = [12288, 20, 7, 5, 1]\n",
    "parameters = L_layer_model(X_train_std, Y_train, X_test_std, Y_test, layer_dims, learning_rate = 0.0075, iterations = 2500, print_cost = True)"
   ]
  },
  {
   "cell_type": "markdown",
   "metadata": {},
   "source": [
    "## Checking own image"
   ]
  },
  {
   "cell_type": "code",
   "execution_count": 335,
   "metadata": {},
   "outputs": [
    {
     "name": "stdout",
     "output_type": "stream",
     "text": [
      "It is not a cat\n"
     ]
    },
    {
     "data": {
      "image/png": "[encoded data removed]",
      "text/plain": [
       "<Figure size 432x288 with 1 Axes>"
      ]
     },
     "metadata": {
      "needs_background": "light"
     },
     "output_type": "display_data"
    }
   ],
   "source": [
    "#Importing image\n",
    "my_image = 'car2.jpg'\n",
    "Y = [1] #write 1 if cat and 0 if non-cat\n",
    "\n",
    "\n",
    "image = 'images/' + my_image\n",
    "my_image = cv2.imread(image, 1)\n",
    "\n",
    "resized_image = cv2.resize(my_image, (64, 64), interpolation = cv2.INTER_AREA)\n",
    "\n",
    "#Converting image to numpy array\n",
    "img = np.array(resized_image)\n",
    "plt.imshow(img)\n",
    "\n",
    "#Flattening the image\n",
    "img_flatten = img.reshape(img.shape[0]*img.shape[1]*img.shape[2], 1)\n",
    "\n",
    "#Standarizing the image\n",
    "img_std = img_flatten/255\n",
    "\n",
    "#Check image size (12288, 1)\n",
    "img_std.shape\n",
    "\n",
    "#Make prediciton\n",
    "prediction = predict(parameters, img_std, Y)\n",
    "if prediction == 1:\n",
    "    print(\"It is a cat\")\n",
    "else:\n",
    "    print(\"It is not a cat\")\n"
   ]
  }
 ],
 "metadata": {
  "kernelspec": {
   "display_name": "Python 3",
   "language": "python",
   "name": "python3"
  },
  "language_info": {
   "codemirror_mode": {
    "name": "ipython",
    "version": 3
   },
   "file_extension": ".py",
   "mimetype": "text/x-python",
   "name": "python",
   "nbconvert_exporter": "python",
   "pygments_lexer": "ipython3",
   "version": "3.7.6"
  }
 },
 "nbformat": 4,
 "nbformat_minor": 4
}
